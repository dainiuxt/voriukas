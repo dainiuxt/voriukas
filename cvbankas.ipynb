{
 "cells": [
  {
   "cell_type": "code",
   "execution_count": 99,
   "id": "3b4b7306-511d-41bd-b4f8-e382078a2ee7",
   "metadata": {},
   "outputs": [],
   "source": [
    "import pandas as pd\n",
    "import numpy as np\n",
    "import re\n",
    "from sklearn.preprocessing import OrdinalEncoder"
   ]
  },
  {
   "cell_type": "code",
   "execution_count": 100,
   "id": "11f5c0b0-e7d3-4cb7-93c0-2ac0764180b6",
   "metadata": {},
   "outputs": [
    {
     "data": {
      "text/html": [
       "<div>\n",
       "<style scoped>\n",
       "    .dataframe tbody tr th:only-of-type {\n",
       "        vertical-align: middle;\n",
       "    }\n",
       "\n",
       "    .dataframe tbody tr th {\n",
       "        vertical-align: top;\n",
       "    }\n",
       "\n",
       "    .dataframe thead th {\n",
       "        text-align: right;\n",
       "    }\n",
       "</style>\n",
       "<table border=\"1\" class=\"dataframe\">\n",
       "  <thead>\n",
       "    <tr style=\"text-align: right;\">\n",
       "      <th></th>\n",
       "      <th>company</th>\n",
       "      <th>old</th>\n",
       "      <th>title</th>\n",
       "      <th>link</th>\n",
       "      <th>salary</th>\n",
       "      <th>netgross</th>\n",
       "      <th>city</th>\n",
       "    </tr>\n",
       "  </thead>\n",
       "  <tbody>\n",
       "    <tr>\n",
       "      <th>0</th>\n",
       "      <td>UAB „Nordcode technology“</td>\n",
       "      <td>prieš 1 d.</td>\n",
       "      <td>BUSINESS ANALYST (WEB SYSTEMS)</td>\n",
       "      <td>https://www.cvbankas.lt/business-analyst-web-s...</td>\n",
       "      <td>3000-4500</td>\n",
       "      <td>Neatskaičius mokesčių</td>\n",
       "      <td>Vilniuje</td>\n",
       "    </tr>\n",
       "    <tr>\n",
       "      <th>1</th>\n",
       "      <td>UAB „WAAVO“</td>\n",
       "      <td>prieš 5 d.</td>\n",
       "      <td>Senior PHP programuotojas</td>\n",
       "      <td>https://www.cvbankas.lt/senior-php-programuoto...</td>\n",
       "      <td>2000-5000</td>\n",
       "      <td>Į rankas</td>\n",
       "      <td>Vilniuje</td>\n",
       "    </tr>\n",
       "    <tr>\n",
       "      <th>2</th>\n",
       "      <td>FREDA LEZ</td>\n",
       "      <td>prieš 6 d.</td>\n",
       "      <td>IT projektų vadovas (-ė) (LEZ)</td>\n",
       "      <td>https://www.cvbankas.lt/it-projektu-vadovas-e-...</td>\n",
       "      <td>2500-3500</td>\n",
       "      <td>Neatskaičius mokesčių</td>\n",
       "      <td>Kaune</td>\n",
       "    </tr>\n",
       "    <tr>\n",
       "      <th>3</th>\n",
       "      <td>UAB „Furniture1“</td>\n",
       "      <td>prieš 8 d.</td>\n",
       "      <td>Junior - Mid FULL STACK developer</td>\n",
       "      <td>https://www.cvbankas.lt/junior-mid-full-stack-...</td>\n",
       "      <td>1300-2000</td>\n",
       "      <td>Į rankas</td>\n",
       "      <td>Vilniuje</td>\n",
       "    </tr>\n",
       "    <tr>\n",
       "      <th>4</th>\n",
       "      <td>UAB „Softemia LT“</td>\n",
       "      <td>prieš 14 d.</td>\n",
       "      <td>MAINTENANCE ENGINEER</td>\n",
       "      <td>https://www.cvbankas.lt/maintenance-engineer-v...</td>\n",
       "      <td>1500-2200</td>\n",
       "      <td>Į rankas</td>\n",
       "      <td>Vilniuje</td>\n",
       "    </tr>\n",
       "  </tbody>\n",
       "</table>\n",
       "</div>"
      ],
      "text/plain": [
       "                     company          old                              title  \\\n",
       "0  UAB „Nordcode technology“   prieš 1 d.     BUSINESS ANALYST (WEB SYSTEMS)   \n",
       "1                UAB „WAAVO“   prieš 5 d.          Senior PHP programuotojas   \n",
       "2                  FREDA LEZ   prieš 6 d.     IT projektų vadovas (-ė) (LEZ)   \n",
       "3           UAB „Furniture1“   prieš 8 d.  Junior - Mid FULL STACK developer   \n",
       "4          UAB „Softemia LT“  prieš 14 d.               MAINTENANCE ENGINEER   \n",
       "\n",
       "                                                link     salary  \\\n",
       "0  https://www.cvbankas.lt/business-analyst-web-s...  3000-4500   \n",
       "1  https://www.cvbankas.lt/senior-php-programuoto...  2000-5000   \n",
       "2  https://www.cvbankas.lt/it-projektu-vadovas-e-...  2500-3500   \n",
       "3  https://www.cvbankas.lt/junior-mid-full-stack-...  1300-2000   \n",
       "4  https://www.cvbankas.lt/maintenance-engineer-v...  1500-2200   \n",
       "\n",
       "                netgross      city  \n",
       "0  Neatskaičius mokesčių  Vilniuje  \n",
       "1               Į rankas  Vilniuje  \n",
       "2  Neatskaičius mokesčių     Kaune  \n",
       "3               Į rankas  Vilniuje  \n",
       "4               Į rankas  Vilniuje  "
      ]
     },
     "execution_count": 100,
     "metadata": {},
     "output_type": "execute_result"
    }
   ],
   "source": [
    "# Nuskaitome duomenis, tuščius laukelius užpildome \"0\"\n",
    "df = pd.read_csv('adds.csv')\n",
    "df.fillna('0', inplace=True)\n",
    "df.head()"
   ]
  },
  {
   "cell_type": "code",
   "execution_count": 101,
   "id": "bd72623f-56ec-4440-bd5f-35c386395e00",
   "metadata": {},
   "outputs": [],
   "source": [
    "# Funkcijos min ir max atlyginimo ištraukimui\n",
    "# minsalary\n",
    "pattern = re.compile(r'\\d+')\n",
    "def lower_val(s):\n",
    "    lower = pattern.search(s)\n",
    "    return int(lower.group())\n",
    "\n",
    "# maxsalary\n",
    "pattern2 = re.compile(r'\\d+$')\n",
    "def upper_val(s):\n",
    "    upper = pattern2.search(s)\n",
    "    return int(upper.group())"
   ]
  },
  {
   "cell_type": "code",
   "execution_count": 102,
   "id": "31f132b0-cd0e-4edb-8278-8c33bbe24568",
   "metadata": {},
   "outputs": [
    {
     "name": "stderr",
     "output_type": "stream",
     "text": [
      "/tmp/ipykernel_23849/3360965149.py:6: SettingWithCopyWarning: \n",
      "A value is trying to be set on a copy of a slice from a DataFrame\n",
      "\n",
      "See the caveats in the documentation: https://pandas.pydata.org/pandas-docs/stable/user_guide/indexing.html#returning-a-view-versus-a-copy\n",
      "  df.ngcat[df.netgross == 'Neatskaičius mokesčių'] = int(1)\n"
     ]
    }
   ],
   "source": [
    "# Ištraukiame min ir max atlyginimo reikšmes iš 'salary' laukelio\n",
    "# \"skaitmenizuojame\" brutto/netto\n",
    "df['minsalary'] = df['salary'].apply(lower_val)\n",
    "df['maxsalary'] = df['salary'].apply(upper_val)\n",
    "df['ngcat'] = df['netgross'].replace('Į rankas',int(2))\n",
    "df.ngcat[df.netgross == 'Neatskaičius mokesčių'] = int(1)"
   ]
  },
  {
   "cell_type": "code",
   "execution_count": 103,
   "id": "679795d4-34c9-46ba-9416-93e0ff5f03ff",
   "metadata": {},
   "outputs": [
    {
     "data": {
      "text/html": [
       "<div>\n",
       "<style scoped>\n",
       "    .dataframe tbody tr th:only-of-type {\n",
       "        vertical-align: middle;\n",
       "    }\n",
       "\n",
       "    .dataframe tbody tr th {\n",
       "        vertical-align: top;\n",
       "    }\n",
       "\n",
       "    .dataframe thead th {\n",
       "        text-align: right;\n",
       "    }\n",
       "</style>\n",
       "<table border=\"1\" class=\"dataframe\">\n",
       "  <thead>\n",
       "    <tr style=\"text-align: right;\">\n",
       "      <th></th>\n",
       "      <th>company</th>\n",
       "      <th>old</th>\n",
       "      <th>title</th>\n",
       "      <th>link</th>\n",
       "      <th>salary</th>\n",
       "      <th>netgross</th>\n",
       "      <th>city</th>\n",
       "      <th>minsalary</th>\n",
       "      <th>maxsalary</th>\n",
       "      <th>ngcat</th>\n",
       "      <th>mins</th>\n",
       "      <th>maxs</th>\n",
       "    </tr>\n",
       "  </thead>\n",
       "  <tbody>\n",
       "    <tr>\n",
       "      <th>0</th>\n",
       "      <td>UAB „Nordcode technology“</td>\n",
       "      <td>prieš 1 d.</td>\n",
       "      <td>BUSINESS ANALYST (WEB SYSTEMS)</td>\n",
       "      <td>https://www.cvbankas.lt/business-analyst-web-s...</td>\n",
       "      <td>3000-4500</td>\n",
       "      <td>Neatskaičius mokesčių</td>\n",
       "      <td>Vilniuje</td>\n",
       "      <td>3000</td>\n",
       "      <td>4500</td>\n",
       "      <td>1</td>\n",
       "      <td>1800.0</td>\n",
       "      <td>2700.0</td>\n",
       "    </tr>\n",
       "    <tr>\n",
       "      <th>1</th>\n",
       "      <td>UAB „WAAVO“</td>\n",
       "      <td>prieš 5 d.</td>\n",
       "      <td>Senior PHP programuotojas</td>\n",
       "      <td>https://www.cvbankas.lt/senior-php-programuoto...</td>\n",
       "      <td>2000-5000</td>\n",
       "      <td>Į rankas</td>\n",
       "      <td>Vilniuje</td>\n",
       "      <td>2000</td>\n",
       "      <td>5000</td>\n",
       "      <td>2</td>\n",
       "      <td>2000.0</td>\n",
       "      <td>5000.0</td>\n",
       "    </tr>\n",
       "    <tr>\n",
       "      <th>2</th>\n",
       "      <td>FREDA LEZ</td>\n",
       "      <td>prieš 6 d.</td>\n",
       "      <td>IT projektų vadovas (-ė) (LEZ)</td>\n",
       "      <td>https://www.cvbankas.lt/it-projektu-vadovas-e-...</td>\n",
       "      <td>2500-3500</td>\n",
       "      <td>Neatskaičius mokesčių</td>\n",
       "      <td>Kaune</td>\n",
       "      <td>2500</td>\n",
       "      <td>3500</td>\n",
       "      <td>1</td>\n",
       "      <td>1500.0</td>\n",
       "      <td>2100.0</td>\n",
       "    </tr>\n",
       "    <tr>\n",
       "      <th>3</th>\n",
       "      <td>UAB „Furniture1“</td>\n",
       "      <td>prieš 8 d.</td>\n",
       "      <td>Junior - Mid FULL STACK developer</td>\n",
       "      <td>https://www.cvbankas.lt/junior-mid-full-stack-...</td>\n",
       "      <td>1300-2000</td>\n",
       "      <td>Į rankas</td>\n",
       "      <td>Vilniuje</td>\n",
       "      <td>1300</td>\n",
       "      <td>2000</td>\n",
       "      <td>2</td>\n",
       "      <td>1300.0</td>\n",
       "      <td>2000.0</td>\n",
       "    </tr>\n",
       "    <tr>\n",
       "      <th>4</th>\n",
       "      <td>UAB „Softemia LT“</td>\n",
       "      <td>prieš 14 d.</td>\n",
       "      <td>MAINTENANCE ENGINEER</td>\n",
       "      <td>https://www.cvbankas.lt/maintenance-engineer-v...</td>\n",
       "      <td>1500-2200</td>\n",
       "      <td>Į rankas</td>\n",
       "      <td>Vilniuje</td>\n",
       "      <td>1500</td>\n",
       "      <td>2200</td>\n",
       "      <td>2</td>\n",
       "      <td>1500.0</td>\n",
       "      <td>2200.0</td>\n",
       "    </tr>\n",
       "  </tbody>\n",
       "</table>\n",
       "</div>"
      ],
      "text/plain": [
       "                     company          old                              title  \\\n",
       "0  UAB „Nordcode technology“   prieš 1 d.     BUSINESS ANALYST (WEB SYSTEMS)   \n",
       "1                UAB „WAAVO“   prieš 5 d.          Senior PHP programuotojas   \n",
       "2                  FREDA LEZ   prieš 6 d.     IT projektų vadovas (-ė) (LEZ)   \n",
       "3           UAB „Furniture1“   prieš 8 d.  Junior - Mid FULL STACK developer   \n",
       "4          UAB „Softemia LT“  prieš 14 d.               MAINTENANCE ENGINEER   \n",
       "\n",
       "                                                link     salary  \\\n",
       "0  https://www.cvbankas.lt/business-analyst-web-s...  3000-4500   \n",
       "1  https://www.cvbankas.lt/senior-php-programuoto...  2000-5000   \n",
       "2  https://www.cvbankas.lt/it-projektu-vadovas-e-...  2500-3500   \n",
       "3  https://www.cvbankas.lt/junior-mid-full-stack-...  1300-2000   \n",
       "4  https://www.cvbankas.lt/maintenance-engineer-v...  1500-2200   \n",
       "\n",
       "                netgross      city  minsalary  maxsalary ngcat    mins    maxs  \n",
       "0  Neatskaičius mokesčių  Vilniuje       3000       4500     1  1800.0  2700.0  \n",
       "1               Į rankas  Vilniuje       2000       5000     2  2000.0  5000.0  \n",
       "2  Neatskaičius mokesčių     Kaune       2500       3500     1  1500.0  2100.0  \n",
       "3               Į rankas  Vilniuje       1300       2000     2  1300.0  2000.0  \n",
       "4               Į rankas  Vilniuje       1500       2200     2  1500.0  2200.0  "
      ]
     },
     "execution_count": 103,
     "metadata": {},
     "output_type": "execute_result"
    }
   ],
   "source": [
    "# Privedame visą atlygį prie NETTO\n",
    "df.loc[df.ngcat==1, \"mins\"] = df.minsalary*0.6\n",
    "df.loc[df.ngcat==1, \"maxs\"] = df.maxsalary*0.6\n",
    "df.loc[df.ngcat==2, \"mins\"] = df.minsalary\n",
    "df.loc[df.ngcat==2, \"maxs\"] = df.maxsalary\n",
    "df.loc[df.ngcat==0, \"mins\"] = df.minsalary\n",
    "df.loc[df.ngcat==0, \"maxs\"] = df.maxsalary\n",
    "df.head()"
   ]
  },
  {
   "cell_type": "code",
   "execution_count": 88,
   "id": "066113de-cfcd-4243-bfa0-0492f43fef79",
   "metadata": {},
   "outputs": [],
   "source": [
    "# df.city = df.city.astype('category')"
   ]
  },
  {
   "cell_type": "code",
   "execution_count": 104,
   "id": "849016b0-0719-47c9-aa84-20f732dd3a78",
   "metadata": {},
   "outputs": [
    {
     "data": {
      "text/plain": [
       "company       object\n",
       "old           object\n",
       "title         object\n",
       "link          object\n",
       "salary        object\n",
       "netgross      object\n",
       "city          object\n",
       "minsalary      int64\n",
       "maxsalary      int64\n",
       "ngcat         object\n",
       "mins         float64\n",
       "maxs         float64\n",
       "dtype: object"
      ]
     },
     "execution_count": 104,
     "metadata": {},
     "output_type": "execute_result"
    }
   ],
   "source": [
    "df.dtypes"
   ]
  },
  {
   "cell_type": "code",
   "execution_count": 105,
   "id": "fab52976-641a-47b6-8442-384952d6af07",
   "metadata": {},
   "outputs": [],
   "source": [
    "# bins reikšmė grafikams\n",
    "bins=100"
   ]
  },
  {
   "cell_type": "code",
   "execution_count": 106,
   "id": "50f59443-1749-4c6c-8e33-e620463c01a3",
   "metadata": {},
   "outputs": [
    {
     "data": {
      "image/png": "[encoded data removed]",
      "text/plain": [
       "<Figure size 432x288 with 1 Axes>"
      ]
     },
     "metadata": {
      "needs_background": "light"
     },
     "output_type": "display_data"
    }
   ],
   "source": [
    "minhist = df.mins.hist(bins=bins)"
   ]
  },
  {
   "cell_type": "code",
   "execution_count": 107,
   "id": "515c3cee-72cf-44bf-a256-1b78ed09f6e8",
   "metadata": {},
   "outputs": [
    {
     "data": {
      "image/png": "[encoded data removed]",
      "text/plain": [
       "<Figure size 432x288 with 1 Axes>"
      ]
     },
     "metadata": {
      "needs_background": "light"
     },
     "output_type": "display_data"
    }
   ],
   "source": [
    "maxhist = df.maxs.hist(bins=bins)"
   ]
  },
  {
   "cell_type": "code",
   "execution_count": 110,
   "id": "69906814-06f9-4a28-8c70-4e5e45af14fa",
   "metadata": {},
   "outputs": [
    {
     "data": {
      "text/html": [
       "<div>\n",
       "<style scoped>\n",
       "    .dataframe tbody tr th:only-of-type {\n",
       "        vertical-align: middle;\n",
       "    }\n",
       "\n",
       "    .dataframe tbody tr th {\n",
       "        vertical-align: top;\n",
       "    }\n",
       "\n",
       "    .dataframe thead th {\n",
       "        text-align: right;\n",
       "    }\n",
       "</style>\n",
       "<table border=\"1\" class=\"dataframe\">\n",
       "  <thead>\n",
       "    <tr style=\"text-align: right;\">\n",
       "      <th></th>\n",
       "      <th>company</th>\n",
       "      <th>old</th>\n",
       "      <th>title</th>\n",
       "      <th>link</th>\n",
       "      <th>salary</th>\n",
       "      <th>netgross</th>\n",
       "      <th>city</th>\n",
       "      <th>minsalary</th>\n",
       "      <th>maxsalary</th>\n",
       "      <th>ngcat</th>\n",
       "      <th>mins</th>\n",
       "    </tr>\n",
       "    <tr>\n",
       "      <th>maxs</th>\n",
       "      <th></th>\n",
       "      <th></th>\n",
       "      <th></th>\n",
       "      <th></th>\n",
       "      <th></th>\n",
       "      <th></th>\n",
       "      <th></th>\n",
       "      <th></th>\n",
       "      <th></th>\n",
       "      <th></th>\n",
       "      <th></th>\n",
       "    </tr>\n",
       "  </thead>\n",
       "  <tbody>\n",
       "    <tr>\n",
       "      <th>9.0</th>\n",
       "      <td>2</td>\n",
       "      <td>2</td>\n",
       "      <td>2</td>\n",
       "      <td>2</td>\n",
       "      <td>2</td>\n",
       "      <td>2</td>\n",
       "      <td>2</td>\n",
       "      <td>2</td>\n",
       "      <td>2</td>\n",
       "      <td>2</td>\n",
       "      <td>2</td>\n",
       "    </tr>\n",
       "    <tr>\n",
       "      <th>12.0</th>\n",
       "      <td>1</td>\n",
       "      <td>1</td>\n",
       "      <td>1</td>\n",
       "      <td>1</td>\n",
       "      <td>1</td>\n",
       "      <td>1</td>\n",
       "      <td>1</td>\n",
       "      <td>1</td>\n",
       "      <td>1</td>\n",
       "      <td>1</td>\n",
       "      <td>1</td>\n",
       "    </tr>\n",
       "    <tr>\n",
       "      <th>15.0</th>\n",
       "      <td>1</td>\n",
       "      <td>1</td>\n",
       "      <td>1</td>\n",
       "      <td>1</td>\n",
       "      <td>1</td>\n",
       "      <td>1</td>\n",
       "      <td>1</td>\n",
       "      <td>1</td>\n",
       "      <td>1</td>\n",
       "      <td>1</td>\n",
       "      <td>1</td>\n",
       "    </tr>\n",
       "    <tr>\n",
       "      <th>24.0</th>\n",
       "      <td>1</td>\n",
       "      <td>1</td>\n",
       "      <td>1</td>\n",
       "      <td>1</td>\n",
       "      <td>1</td>\n",
       "      <td>1</td>\n",
       "      <td>1</td>\n",
       "      <td>1</td>\n",
       "      <td>1</td>\n",
       "      <td>1</td>\n",
       "      <td>1</td>\n",
       "    </tr>\n",
       "    <tr>\n",
       "      <th>438.0</th>\n",
       "      <td>1</td>\n",
       "      <td>1</td>\n",
       "      <td>1</td>\n",
       "      <td>1</td>\n",
       "      <td>1</td>\n",
       "      <td>1</td>\n",
       "      <td>1</td>\n",
       "      <td>1</td>\n",
       "      <td>1</td>\n",
       "      <td>1</td>\n",
       "      <td>1</td>\n",
       "    </tr>\n",
       "    <tr>\n",
       "      <th>...</th>\n",
       "      <td>...</td>\n",
       "      <td>...</td>\n",
       "      <td>...</td>\n",
       "      <td>...</td>\n",
       "      <td>...</td>\n",
       "      <td>...</td>\n",
       "      <td>...</td>\n",
       "      <td>...</td>\n",
       "      <td>...</td>\n",
       "      <td>...</td>\n",
       "      <td>...</td>\n",
       "    </tr>\n",
       "    <tr>\n",
       "      <th>5000.0</th>\n",
       "      <td>1</td>\n",
       "      <td>1</td>\n",
       "      <td>1</td>\n",
       "      <td>1</td>\n",
       "      <td>1</td>\n",
       "      <td>1</td>\n",
       "      <td>1</td>\n",
       "      <td>1</td>\n",
       "      <td>1</td>\n",
       "      <td>1</td>\n",
       "      <td>1</td>\n",
       "    </tr>\n",
       "    <tr>\n",
       "      <th>5750.0</th>\n",
       "      <td>1</td>\n",
       "      <td>1</td>\n",
       "      <td>1</td>\n",
       "      <td>1</td>\n",
       "      <td>1</td>\n",
       "      <td>1</td>\n",
       "      <td>1</td>\n",
       "      <td>1</td>\n",
       "      <td>1</td>\n",
       "      <td>1</td>\n",
       "      <td>1</td>\n",
       "    </tr>\n",
       "    <tr>\n",
       "      <th>6000.0</th>\n",
       "      <td>21</td>\n",
       "      <td>21</td>\n",
       "      <td>21</td>\n",
       "      <td>21</td>\n",
       "      <td>21</td>\n",
       "      <td>21</td>\n",
       "      <td>21</td>\n",
       "      <td>21</td>\n",
       "      <td>21</td>\n",
       "      <td>21</td>\n",
       "      <td>21</td>\n",
       "    </tr>\n",
       "    <tr>\n",
       "      <th>6300.0</th>\n",
       "      <td>1</td>\n",
       "      <td>1</td>\n",
       "      <td>1</td>\n",
       "      <td>1</td>\n",
       "      <td>1</td>\n",
       "      <td>1</td>\n",
       "      <td>1</td>\n",
       "      <td>1</td>\n",
       "      <td>1</td>\n",
       "      <td>1</td>\n",
       "      <td>1</td>\n",
       "    </tr>\n",
       "    <tr>\n",
       "      <th>7000.0</th>\n",
       "      <td>1</td>\n",
       "      <td>1</td>\n",
       "      <td>1</td>\n",
       "      <td>1</td>\n",
       "      <td>1</td>\n",
       "      <td>1</td>\n",
       "      <td>1</td>\n",
       "      <td>1</td>\n",
       "      <td>1</td>\n",
       "      <td>1</td>\n",
       "      <td>1</td>\n",
       "    </tr>\n",
       "  </tbody>\n",
       "</table>\n",
       "<p>167 rows × 11 columns</p>\n",
       "</div>"
      ],
      "text/plain": [
       "        company  old  title  link  salary  netgross  city  minsalary  \\\n",
       "maxs                                                                   \n",
       "9.0           2    2      2     2       2         2     2          2   \n",
       "12.0          1    1      1     1       1         1     1          1   \n",
       "15.0          1    1      1     1       1         1     1          1   \n",
       "24.0          1    1      1     1       1         1     1          1   \n",
       "438.0         1    1      1     1       1         1     1          1   \n",
       "...         ...  ...    ...   ...     ...       ...   ...        ...   \n",
       "5000.0        1    1      1     1       1         1     1          1   \n",
       "5750.0        1    1      1     1       1         1     1          1   \n",
       "6000.0       21   21     21    21      21        21    21         21   \n",
       "6300.0        1    1      1     1       1         1     1          1   \n",
       "7000.0        1    1      1     1       1         1     1          1   \n",
       "\n",
       "        maxsalary  ngcat  mins  \n",
       "maxs                            \n",
       "9.0             2      2     2  \n",
       "12.0            1      1     1  \n",
       "15.0            1      1     1  \n",
       "24.0            1      1     1  \n",
       "438.0           1      1     1  \n",
       "...           ...    ...   ...  \n",
       "5000.0          1      1     1  \n",
       "5750.0          1      1     1  \n",
       "6000.0         21     21    21  \n",
       "6300.0          1      1     1  \n",
       "7000.0          1      1     1  \n",
       "\n",
       "[167 rows x 11 columns]"
      ]
     },
     "execution_count": 110,
     "metadata": {},
     "output_type": "execute_result"
    }
   ],
   "source": [
    "# reikšmių distribucija\n",
    "df.groupby('maxs').count()"
   ]
  },
  {
   "cell_type": "code",
   "execution_count": 111,
   "id": "1384f215-6dac-4fcd-bf16-14834a6bc858",
   "metadata": {},
   "outputs": [],
   "source": [
    "# Išvalome duomenis su valandiniu atlygiu (mins arba maxs < 438)\n",
    "df = df[df.maxs > 437]"
   ]
  },
  {
   "cell_type": "code",
   "execution_count": 115,
   "id": "16673702-6bf4-42df-90a9-4a63915dcb6d",
   "metadata": {},
   "outputs": [
    {
     "name": "stdout",
     "output_type": "stream",
     "text": [
      "         minsalary     maxsalary        mins         maxs\n",
      "count   632.000000    632.000000   632.00000   632.000000\n",
      "mean   2287.363924   3487.677215  1474.11962  2233.832911\n",
      "std    1036.618898   2030.570439   639.22933  1219.776267\n",
      "min     500.000000    600.000000   438.00000   438.000000\n",
      "25%    1500.000000   2000.000000  1020.00000  1364.750000\n",
      "50%    2100.000000   3000.000000  1380.00000  1983.600000\n",
      "75%    3000.000000   4500.000000  1800.00000  2820.000000\n",
      "max    8000.000000  10000.000000  5000.00000  7000.000000\n"
     ]
    }
   ],
   "source": [
    "# Statistika\n",
    "print(df.describe())"
   ]
  },
  {
   "cell_type": "code",
   "execution_count": 118,
   "id": "16df55f6-a1fb-46af-81af-e17fbc3292b2",
   "metadata": {},
   "outputs": [
    {
     "data": {
      "text/plain": [
       "city\n",
       "Darbas namuose    [[AxesSubplot(0.125,0.125;0.336957x0.755), Axe...\n",
       "Elektrėnuose      [[AxesSubplot(0.125,0.125;0.336957x0.755), Axe...\n",
       "Kaišiadoryse      [[AxesSubplot(0.125,0.125;0.336957x0.755), Axe...\n",
       "Kaune             [[AxesSubplot(0.125,0.125;0.336957x0.755), Axe...\n",
       "Klaipėdoje        [[AxesSubplot(0.125,0.125;0.336957x0.755), Axe...\n",
       "Latvijoje         [[AxesSubplot(0.125,0.125;0.336957x0.755), Axe...\n",
       "Mažeikiuose       [[AxesSubplot(0.125,0.125;0.336957x0.755), Axe...\n",
       "Panevėžyje        [[AxesSubplot(0.125,0.125;0.336957x0.755), Axe...\n",
       "Plungėje          [[AxesSubplot(0.125,0.125;0.336957x0.755), Axe...\n",
       "Telšiuose         [[AxesSubplot(0.125,0.125;0.336957x0.755), Axe...\n",
       "Utenoje           [[AxesSubplot(0.125,0.125;0.336957x0.755), Axe...\n",
       "Vilniuje          [[AxesSubplot(0.125,0.125;0.336957x0.755), Axe...\n",
       "Vokietijoje       [[AxesSubplot(0.125,0.125;0.336957x0.755), Axe...\n",
       "Šiauliuose        [[AxesSubplot(0.125,0.125;0.336957x0.755), Axe...\n",
       "dtype: object"
      ]
     },
     "execution_count": 118,
     "metadata": {},
     "output_type": "execute_result"
    },
    {
     "data": {
      "image/png": "[encoded data removed]",
      "text/plain": [
       "<Figure size 432x288 with 2 Axes>"
      ]
     },
     "metadata": {
      "needs_background": "light"
     },
     "output_type": "display_data"
    },
    {
     "data": {
      "image/png": "[encoded data removed]",
      "text/plain": [
       "<Figure size 432x288 with 2 Axes>"
      ]
     },
     "metadata": {
      "needs_background": "light"
     },
     "output_type": "display_data"
    },
    {
     "data": {
      "image/png": "[encoded data removed]",
      "text/plain": [
       "<Figure size 432x288 with 2 Axes>"
      ]
     },
     "metadata": {
      "needs_background": "light"
     },
     "output_type": "display_data"
    },
    {
     "data": {
      "image/png": "[encoded data removed]",
      "text/plain": [
       "<Figure size 432x288 with 2 Axes>"
      ]
     },
     "metadata": {
      "needs_background": "light"
     },
     "output_type": "display_data"
    },
    {
     "data": {
      "image/png": "[encoded data removed]",
      "text/plain": [
       "<Figure size 432x288 with 2 Axes>"
      ]
     },
     "metadata": {
      "needs_background": "light"
     },
     "output_type": "display_data"
    },
    {
     "data": {
      "image/png": "[encoded data removed]",
      "text/plain": [
       "<Figure size 432x288 with 2 Axes>"
      ]
     },
     "metadata": {
      "needs_background": "light"
     },
     "output_type": "display_data"
    },
    {
     "data": {
      "image/png": "[encoded data removed]",
      "text/plain": [
       "<Figure size 432x288 with 2 Axes>"
      ]
     },
     "metadata": {
      "needs_background": "light"
     },
     "output_type": "display_data"
    },
    {
     "data": {
      "image/png": "[encoded data removed]",
      "text/plain": [
       "<Figure size 432x288 with 2 Axes>"
      ]
     },
     "metadata": {
      "needs_background": "light"
     },
     "output_type": "display_data"
    },
    {
     "data": {
      "image/png": "[encoded data removed]",
      "text/plain": [
       "<Figure size 432x288 with 2 Axes>"
      ]
     },
     "metadata": {
      "needs_background": "light"
     },
     "output_type": "display_data"
    },
    {
     "data": {
      "image/png": "[encoded data removed]",
      "text/plain": [
       "<Figure size 432x288 with 2 Axes>"
      ]
     },
     "metadata": {
      "needs_background": "light"
     },
     "output_type": "display_data"
    },
    {
     "data": {
      "image/png": "[encoded data removed]",
      "text/plain": [
       "<Figure size 432x288 with 2 Axes>"
      ]
     },
     "metadata": {
      "needs_background": "light"
     },
     "output_type": "display_data"
    },
    {
     "data": {
      "image/png": "[encoded data removed]",
      "text/plain": [
       "<Figure size 432x288 with 2 Axes>"
      ]
     },
     "metadata": {
      "needs_background": "light"
     },
     "output_type": "display_data"
    },
    {
     "data": {
      "image/png": "[encoded data removed]",
      "text/plain": [
       "<Figure size 432x288 with 2 Axes>"
      ]
     },
     "metadata": {
      "needs_background": "light"
     },
     "output_type": "display_data"
    },
    {
     "data": {
      "image/png": "[encoded data removed]",
      "text/plain": [
       "<Figure size 432x288 with 2 Axes>"
      ]
     },
     "metadata": {
      "needs_background": "light"
     },
     "output_type": "display_data"
    }
   ],
   "source": [
    "df.groupby('city').hist(column=['mins','maxs'])"
   ]
  },
  {
   "cell_type": "code",
   "execution_count": null,
   "id": "8499345d-41a4-479e-8478-00cf9fa56454",
   "metadata": {},
   "outputs": [],
   "source": []
  }
 ],
 "metadata": {
  "kernelspec": {
   "display_name": "Python 3 (ipykernel)",
   "language": "python",
   "name": "python3"
  },
  "language_info": {
   "codemirror_mode": {
    "name": "ipython",
    "version": 3
   },
   "file_extension": ".py",
   "mimetype": "text/x-python",
   "name": "python",
   "nbconvert_exporter": "python",
   "pygments_lexer": "ipython3",
   "version": "3.8.10"
  }
 },
 "nbformat": 4,
 "nbformat_minor": 5
}
