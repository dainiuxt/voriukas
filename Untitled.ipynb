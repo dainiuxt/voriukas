{
 "cells": [
  {
   "cell_type": "code",
   "execution_count": 17,
   "id": "3b4b7306-511d-41bd-b4f8-e382078a2ee7",
   "metadata": {},
   "outputs": [],
   "source": [
    "import pandas as pd\n",
    "df = pd.read_csv('adds.csv')"
   ]
  },
  {
   "cell_type": "code",
   "execution_count": 18,
   "id": "b62de5da-9dce-40f1-a45e-822000aa8224",
   "metadata": {},
   "outputs": [
    {
     "data": {
      "text/plain": [
       "(100, 8)"
      ]
     },
     "execution_count": 18,
     "metadata": {},
     "output_type": "execute_result"
    }
   ],
   "source": [
    "df.shape"
   ]
  },
  {
   "cell_type": "code",
   "execution_count": 19,
   "id": "6cf5682b-99d8-4abc-8268-305ccbbaa480",
   "metadata": {},
   "outputs": [
    {
     "data": {
      "text/html": [
       "<div>\n",
       "<style scoped>\n",
       "    .dataframe tbody tr th:only-of-type {\n",
       "        vertical-align: middle;\n",
       "    }\n",
       "\n",
       "    .dataframe tbody tr th {\n",
       "        vertical-align: top;\n",
       "    }\n",
       "\n",
       "    .dataframe thead th {\n",
       "        text-align: right;\n",
       "    }\n",
       "</style>\n",
       "<table border=\"1\" class=\"dataframe\">\n",
       "  <thead>\n",
       "    <tr style=\"text-align: right;\">\n",
       "      <th></th>\n",
       "      <th>Unnamed: 0</th>\n",
       "      <th>company</th>\n",
       "      <th>old</th>\n",
       "      <th>title</th>\n",
       "      <th>link</th>\n",
       "      <th>salary</th>\n",
       "      <th>netgross</th>\n",
       "      <th>city</th>\n",
       "    </tr>\n",
       "  </thead>\n",
       "  <tbody>\n",
       "    <tr>\n",
       "      <th>0</th>\n",
       "      <td>0</td>\n",
       "      <td>['UAB „Nordcode technology“']</td>\n",
       "      <td>['prieš 1 d.']</td>\n",
       "      <td>['BUSINESS ANALYST (WEB SYSTEMS)']</td>\n",
       "      <td>['https://www.cvbankas.lt/business-analyst-web...</td>\n",
       "      <td>['3000-4500']</td>\n",
       "      <td>['Neatskaičius mokesčių']</td>\n",
       "      <td>['Vilniuje']</td>\n",
       "    </tr>\n",
       "    <tr>\n",
       "      <th>1</th>\n",
       "      <td>1</td>\n",
       "      <td>['UAB „WAAVO“']</td>\n",
       "      <td>['prieš 5 d.']</td>\n",
       "      <td>['Senior PHP programuotojas']</td>\n",
       "      <td>['https://www.cvbankas.lt/senior-php-programuo...</td>\n",
       "      <td>['2000-5000']</td>\n",
       "      <td>['Į rankas']</td>\n",
       "      <td>['Vilniuje']</td>\n",
       "    </tr>\n",
       "    <tr>\n",
       "      <th>2</th>\n",
       "      <td>2</td>\n",
       "      <td>['FREDA LEZ']</td>\n",
       "      <td>['prieš 6 d.']</td>\n",
       "      <td>['IT projektų vadovas (-ė) (LEZ)']</td>\n",
       "      <td>['https://www.cvbankas.lt/it-projektu-vadovas-...</td>\n",
       "      <td>['2500-3500']</td>\n",
       "      <td>['Neatskaičius mokesčių']</td>\n",
       "      <td>['Kaune']</td>\n",
       "    </tr>\n",
       "    <tr>\n",
       "      <th>3</th>\n",
       "      <td>3</td>\n",
       "      <td>['UAB „Furniture1“']</td>\n",
       "      <td>['prieš 8 d.']</td>\n",
       "      <td>['Junior - Mid FULL STACK developer']</td>\n",
       "      <td>['https://www.cvbankas.lt/junior-mid-full-stac...</td>\n",
       "      <td>['1300-2000']</td>\n",
       "      <td>['Į rankas']</td>\n",
       "      <td>['Vilniuje']</td>\n",
       "    </tr>\n",
       "    <tr>\n",
       "      <th>4</th>\n",
       "      <td>4</td>\n",
       "      <td>['UAB „Softemia LT“']</td>\n",
       "      <td>['prieš 14 d.']</td>\n",
       "      <td>['MAINTENANCE ENGINEER']</td>\n",
       "      <td>['https://www.cvbankas.lt/maintenance-engineer...</td>\n",
       "      <td>['1500-2200']</td>\n",
       "      <td>['Į rankas']</td>\n",
       "      <td>['Vilniuje']</td>\n",
       "    </tr>\n",
       "  </tbody>\n",
       "</table>\n",
       "</div>"
      ],
      "text/plain": [
       "   Unnamed: 0                        company              old  \\\n",
       "0           0  ['UAB „Nordcode technology“']   ['prieš 1 d.']   \n",
       "1           1                ['UAB „WAAVO“']   ['prieš 5 d.']   \n",
       "2           2                  ['FREDA LEZ']   ['prieš 6 d.']   \n",
       "3           3           ['UAB „Furniture1“']   ['prieš 8 d.']   \n",
       "4           4          ['UAB „Softemia LT“']  ['prieš 14 d.']   \n",
       "\n",
       "                                   title  \\\n",
       "0     ['BUSINESS ANALYST (WEB SYSTEMS)']   \n",
       "1          ['Senior PHP programuotojas']   \n",
       "2     ['IT projektų vadovas (-ė) (LEZ)']   \n",
       "3  ['Junior - Mid FULL STACK developer']   \n",
       "4               ['MAINTENANCE ENGINEER']   \n",
       "\n",
       "                                                link         salary  \\\n",
       "0  ['https://www.cvbankas.lt/business-analyst-web...  ['3000-4500']   \n",
       "1  ['https://www.cvbankas.lt/senior-php-programuo...  ['2000-5000']   \n",
       "2  ['https://www.cvbankas.lt/it-projektu-vadovas-...  ['2500-3500']   \n",
       "3  ['https://www.cvbankas.lt/junior-mid-full-stac...  ['1300-2000']   \n",
       "4  ['https://www.cvbankas.lt/maintenance-engineer...  ['1500-2200']   \n",
       "\n",
       "                    netgross          city  \n",
       "0  ['Neatskaičius mokesčių']  ['Vilniuje']  \n",
       "1               ['Į rankas']  ['Vilniuje']  \n",
       "2  ['Neatskaičius mokesčių']     ['Kaune']  \n",
       "3               ['Į rankas']  ['Vilniuje']  \n",
       "4               ['Į rankas']  ['Vilniuje']  "
      ]
     },
     "execution_count": 19,
     "metadata": {},
     "output_type": "execute_result"
    }
   ],
   "source": [
    "df.head()"
   ]
  },
  {
   "cell_type": "code",
   "execution_count": null,
   "id": "b3126a39-40c8-4c2e-a87b-969b9e86ac04",
   "metadata": {},
   "outputs": [],
   "source": []
  }
 ],
 "metadata": {
  "kernelspec": {
   "display_name": "Python 3 (ipykernel)",
   "language": "python",
   "name": "python3"
  },
  "language_info": {
   "codemirror_mode": {
    "name": "ipython",
    "version": 3
   },
   "file_extension": ".py",
   "mimetype": "text/x-python",
   "name": "python",
   "nbconvert_exporter": "python",
   "pygments_lexer": "ipython3",
   "version": "3.8.10"
  }
 },
 "nbformat": 4,
 "nbformat_minor": 5
}
