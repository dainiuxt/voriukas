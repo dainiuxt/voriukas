{
 "cells": [
  {
   "cell_type": "code",
   "execution_count": 1,
   "id": "3b4b7306-511d-41bd-b4f8-e382078a2ee7",
   "metadata": {},
   "outputs": [],
   "source": [
    "import pandas as pd\n",
    "import numpy as np\n",
    "df = pd.read_csv('adds.csv')"
   ]
  },
  {
   "cell_type": "code",
   "execution_count": 14,
   "id": "b62de5da-9dce-40f1-a45e-822000aa8224",
   "metadata": {},
   "outputs": [],
   "source": [
    "import re"
   ]
  },
  {
   "cell_type": "code",
   "execution_count": 3,
   "id": "6cf5682b-99d8-4abc-8268-305ccbbaa480",
   "metadata": {},
   "outputs": [
    {
     "data": {
      "text/html": [
       "<div>\n",
       "<style scoped>\n",
       "    .dataframe tbody tr th:only-of-type {\n",
       "        vertical-align: middle;\n",
       "    }\n",
       "\n",
       "    .dataframe tbody tr th {\n",
       "        vertical-align: top;\n",
       "    }\n",
       "\n",
       "    .dataframe thead th {\n",
       "        text-align: right;\n",
       "    }\n",
       "</style>\n",
       "<table border=\"1\" class=\"dataframe\">\n",
       "  <thead>\n",
       "    <tr style=\"text-align: right;\">\n",
       "      <th></th>\n",
       "      <th>company</th>\n",
       "      <th>old</th>\n",
       "      <th>title</th>\n",
       "      <th>link</th>\n",
       "      <th>salary</th>\n",
       "      <th>netgross</th>\n",
       "      <th>city</th>\n",
       "    </tr>\n",
       "  </thead>\n",
       "  <tbody>\n",
       "    <tr>\n",
       "      <th>0</th>\n",
       "      <td>UAB „Nordcode technology“</td>\n",
       "      <td>prieš 1 d.</td>\n",
       "      <td>BUSINESS ANALYST (WEB SYSTEMS)</td>\n",
       "      <td>https://www.cvbankas.lt/business-analyst-web-s...</td>\n",
       "      <td>3000-4500</td>\n",
       "      <td>Neatskaičius mokesčių</td>\n",
       "      <td>Vilniuje</td>\n",
       "    </tr>\n",
       "    <tr>\n",
       "      <th>1</th>\n",
       "      <td>UAB „WAAVO“</td>\n",
       "      <td>prieš 5 d.</td>\n",
       "      <td>Senior PHP programuotojas</td>\n",
       "      <td>https://www.cvbankas.lt/senior-php-programuoto...</td>\n",
       "      <td>2000-5000</td>\n",
       "      <td>Į rankas</td>\n",
       "      <td>Vilniuje</td>\n",
       "    </tr>\n",
       "    <tr>\n",
       "      <th>2</th>\n",
       "      <td>FREDA LEZ</td>\n",
       "      <td>prieš 6 d.</td>\n",
       "      <td>IT projektų vadovas (-ė) (LEZ)</td>\n",
       "      <td>https://www.cvbankas.lt/it-projektu-vadovas-e-...</td>\n",
       "      <td>2500-3500</td>\n",
       "      <td>Neatskaičius mokesčių</td>\n",
       "      <td>Kaune</td>\n",
       "    </tr>\n",
       "    <tr>\n",
       "      <th>3</th>\n",
       "      <td>UAB „Furniture1“</td>\n",
       "      <td>prieš 8 d.</td>\n",
       "      <td>Junior - Mid FULL STACK developer</td>\n",
       "      <td>https://www.cvbankas.lt/junior-mid-full-stack-...</td>\n",
       "      <td>1300-2000</td>\n",
       "      <td>Į rankas</td>\n",
       "      <td>Vilniuje</td>\n",
       "    </tr>\n",
       "    <tr>\n",
       "      <th>4</th>\n",
       "      <td>UAB „Softemia LT“</td>\n",
       "      <td>prieš 14 d.</td>\n",
       "      <td>MAINTENANCE ENGINEER</td>\n",
       "      <td>https://www.cvbankas.lt/maintenance-engineer-v...</td>\n",
       "      <td>1500-2200</td>\n",
       "      <td>Į rankas</td>\n",
       "      <td>Vilniuje</td>\n",
       "    </tr>\n",
       "  </tbody>\n",
       "</table>\n",
       "</div>"
      ],
      "text/plain": [
       "                     company          old                              title  \\\n",
       "0  UAB „Nordcode technology“   prieš 1 d.     BUSINESS ANALYST (WEB SYSTEMS)   \n",
       "1                UAB „WAAVO“   prieš 5 d.          Senior PHP programuotojas   \n",
       "2                  FREDA LEZ   prieš 6 d.     IT projektų vadovas (-ė) (LEZ)   \n",
       "3           UAB „Furniture1“   prieš 8 d.  Junior - Mid FULL STACK developer   \n",
       "4          UAB „Softemia LT“  prieš 14 d.               MAINTENANCE ENGINEER   \n",
       "\n",
       "                                                link     salary  \\\n",
       "0  https://www.cvbankas.lt/business-analyst-web-s...  3000-4500   \n",
       "1  https://www.cvbankas.lt/senior-php-programuoto...  2000-5000   \n",
       "2  https://www.cvbankas.lt/it-projektu-vadovas-e-...  2500-3500   \n",
       "3  https://www.cvbankas.lt/junior-mid-full-stack-...  1300-2000   \n",
       "4  https://www.cvbankas.lt/maintenance-engineer-v...  1500-2200   \n",
       "\n",
       "                netgross      city  \n",
       "0  Neatskaičius mokesčių  Vilniuje  \n",
       "1               Į rankas  Vilniuje  \n",
       "2  Neatskaičius mokesčių     Kaune  \n",
       "3               Į rankas  Vilniuje  \n",
       "4               Į rankas  Vilniuje  "
      ]
     },
     "execution_count": 3,
     "metadata": {},
     "output_type": "execute_result"
    }
   ],
   "source": [
    "df.head()"
   ]
  },
  {
   "cell_type": "code",
   "execution_count": 7,
   "id": "b3126a39-40c8-4c2e-a87b-969b9e86ac04",
   "metadata": {},
   "outputs": [
    {
     "data": {
      "text/plain": [
       "0       3000-4500\n",
       "1       2000-5000\n",
       "2       2500-3500\n",
       "3       1300-2000\n",
       "4       1500-2200\n",
       "          ...    \n",
       "666    3000-10000\n",
       "667    3000-10000\n",
       "668    3000-10000\n",
       "669      800-1000\n",
       "670     5500-7500\n",
       "Name: salary, Length: 671, dtype: object"
      ]
     },
     "execution_count": 7,
     "metadata": {},
     "output_type": "execute_result"
    }
   ],
   "source": [
    "df['salary']"
   ]
  },
  {
   "cell_type": "code",
   "execution_count": 12,
   "id": "85ce6d35-e1bf-4470-af3a-c289e642f1cb",
   "metadata": {},
   "outputs": [],
   "source": [
    "df['minsalary']=''\n",
    "df['maxsalary']=''"
   ]
  },
  {
   "cell_type": "code",
   "execution_count": 13,
   "id": "1a0f30be-0ce4-480b-9b96-15588d3c9424",
   "metadata": {},
   "outputs": [
    {
     "data": {
      "text/html": [
       "<div>\n",
       "<style scoped>\n",
       "    .dataframe tbody tr th:only-of-type {\n",
       "        vertical-align: middle;\n",
       "    }\n",
       "\n",
       "    .dataframe tbody tr th {\n",
       "        vertical-align: top;\n",
       "    }\n",
       "\n",
       "    .dataframe thead th {\n",
       "        text-align: right;\n",
       "    }\n",
       "</style>\n",
       "<table border=\"1\" class=\"dataframe\">\n",
       "  <thead>\n",
       "    <tr style=\"text-align: right;\">\n",
       "      <th></th>\n",
       "      <th>company</th>\n",
       "      <th>old</th>\n",
       "      <th>title</th>\n",
       "      <th>link</th>\n",
       "      <th>salary</th>\n",
       "      <th>netgross</th>\n",
       "      <th>city</th>\n",
       "      <th>minsalary</th>\n",
       "      <th>maxsalary</th>\n",
       "    </tr>\n",
       "  </thead>\n",
       "  <tbody>\n",
       "    <tr>\n",
       "      <th>0</th>\n",
       "      <td>UAB „Nordcode technology“</td>\n",
       "      <td>prieš 1 d.</td>\n",
       "      <td>BUSINESS ANALYST (WEB SYSTEMS)</td>\n",
       "      <td>https://www.cvbankas.lt/business-analyst-web-s...</td>\n",
       "      <td>3000-4500</td>\n",
       "      <td>Neatskaičius mokesčių</td>\n",
       "      <td>Vilniuje</td>\n",
       "      <td></td>\n",
       "      <td></td>\n",
       "    </tr>\n",
       "    <tr>\n",
       "      <th>1</th>\n",
       "      <td>UAB „WAAVO“</td>\n",
       "      <td>prieš 5 d.</td>\n",
       "      <td>Senior PHP programuotojas</td>\n",
       "      <td>https://www.cvbankas.lt/senior-php-programuoto...</td>\n",
       "      <td>2000-5000</td>\n",
       "      <td>Į rankas</td>\n",
       "      <td>Vilniuje</td>\n",
       "      <td></td>\n",
       "      <td></td>\n",
       "    </tr>\n",
       "    <tr>\n",
       "      <th>2</th>\n",
       "      <td>FREDA LEZ</td>\n",
       "      <td>prieš 6 d.</td>\n",
       "      <td>IT projektų vadovas (-ė) (LEZ)</td>\n",
       "      <td>https://www.cvbankas.lt/it-projektu-vadovas-e-...</td>\n",
       "      <td>2500-3500</td>\n",
       "      <td>Neatskaičius mokesčių</td>\n",
       "      <td>Kaune</td>\n",
       "      <td></td>\n",
       "      <td></td>\n",
       "    </tr>\n",
       "    <tr>\n",
       "      <th>3</th>\n",
       "      <td>UAB „Furniture1“</td>\n",
       "      <td>prieš 8 d.</td>\n",
       "      <td>Junior - Mid FULL STACK developer</td>\n",
       "      <td>https://www.cvbankas.lt/junior-mid-full-stack-...</td>\n",
       "      <td>1300-2000</td>\n",
       "      <td>Į rankas</td>\n",
       "      <td>Vilniuje</td>\n",
       "      <td></td>\n",
       "      <td></td>\n",
       "    </tr>\n",
       "    <tr>\n",
       "      <th>4</th>\n",
       "      <td>UAB „Softemia LT“</td>\n",
       "      <td>prieš 14 d.</td>\n",
       "      <td>MAINTENANCE ENGINEER</td>\n",
       "      <td>https://www.cvbankas.lt/maintenance-engineer-v...</td>\n",
       "      <td>1500-2200</td>\n",
       "      <td>Į rankas</td>\n",
       "      <td>Vilniuje</td>\n",
       "      <td></td>\n",
       "      <td></td>\n",
       "    </tr>\n",
       "  </tbody>\n",
       "</table>\n",
       "</div>"
      ],
      "text/plain": [
       "                     company          old                              title  \\\n",
       "0  UAB „Nordcode technology“   prieš 1 d.     BUSINESS ANALYST (WEB SYSTEMS)   \n",
       "1                UAB „WAAVO“   prieš 5 d.          Senior PHP programuotojas   \n",
       "2                  FREDA LEZ   prieš 6 d.     IT projektų vadovas (-ė) (LEZ)   \n",
       "3           UAB „Furniture1“   prieš 8 d.  Junior - Mid FULL STACK developer   \n",
       "4          UAB „Softemia LT“  prieš 14 d.               MAINTENANCE ENGINEER   \n",
       "\n",
       "                                                link     salary  \\\n",
       "0  https://www.cvbankas.lt/business-analyst-web-s...  3000-4500   \n",
       "1  https://www.cvbankas.lt/senior-php-programuoto...  2000-5000   \n",
       "2  https://www.cvbankas.lt/it-projektu-vadovas-e-...  2500-3500   \n",
       "3  https://www.cvbankas.lt/junior-mid-full-stack-...  1300-2000   \n",
       "4  https://www.cvbankas.lt/maintenance-engineer-v...  1500-2200   \n",
       "\n",
       "                netgross      city minsalary maxsalary  \n",
       "0  Neatskaičius mokesčių  Vilniuje                      \n",
       "1               Į rankas  Vilniuje                      \n",
       "2  Neatskaičius mokesčių     Kaune                      \n",
       "3               Į rankas  Vilniuje                      \n",
       "4               Į rankas  Vilniuje                      "
      ]
     },
     "execution_count": 13,
     "metadata": {},
     "output_type": "execute_result"
    }
   ],
   "source": [
    "df.head()"
   ]
  },
  {
   "cell_type": "code",
   "execution_count": 15,
   "id": "ed2110f1-16e6-4e0d-901d-28a8a8b72e02",
   "metadata": {},
   "outputs": [],
   "source": [
    "ranges = '2000-5000'"
   ]
  },
  {
   "cell_type": "code",
   "execution_count": 16,
   "id": "4a1309fb-76c2-4b8d-ae4b-ee377a2914bd",
   "metadata": {},
   "outputs": [
    {
     "name": "stdout",
     "output_type": "stream",
     "text": [
      "2000-5000\n"
     ]
    }
   ],
   "source": [
    "print(ranges)"
   ]
  },
  {
   "cell_type": "code",
   "execution_count": 20,
   "id": "bd72623f-56ec-4440-bd5f-35c386395e00",
   "metadata": {},
   "outputs": [
    {
     "ename": "AttributeError",
     "evalue": "'NoneType' object has no attribute 'group'",
     "output_type": "error",
     "traceback": [
      "\u001b[0;31m---------------------------------------------------------------------------\u001b[0m",
      "\u001b[0;31mAttributeError\u001b[0m                            Traceback (most recent call last)",
      "Input \u001b[0;32mIn [20]\u001b[0m, in \u001b[0;36m<module>\u001b[0;34m\u001b[0m\n\u001b[1;32m      1\u001b[0m pattern \u001b[38;5;241m=\u001b[39m re\u001b[38;5;241m.\u001b[39mcompile(\u001b[38;5;124mr\u001b[39m\u001b[38;5;124m'\u001b[39m\u001b[38;5;124m\\\u001b[39m\u001b[38;5;124m.\u001b[39m\u001b[38;5;132;01m{d}\u001b[39;00m\u001b[38;5;124m'\u001b[39m)\n\u001b[1;32m      2\u001b[0m lower \u001b[38;5;241m=\u001b[39m pattern\u001b[38;5;241m.\u001b[39msearch(ranges)\n\u001b[0;32m----> 3\u001b[0m \u001b[38;5;28mprint\u001b[39m(\u001b[43mlower\u001b[49m\u001b[38;5;241;43m.\u001b[39;49m\u001b[43mgroup\u001b[49m())\n",
      "\u001b[0;31mAttributeError\u001b[0m: 'NoneType' object has no attribute 'group'"
     ]
    }
   ],
   "source": [
    "pattern = re.compile(r'\\*{d}')\n",
    "lower = pattern.search(ranges)\n",
    "print(lower.group())"
   ]
  },
  {
   "cell_type": "code",
   "execution_count": null,
   "id": "31f132b0-cd0e-4edb-8278-8c33bbe24568",
   "metadata": {},
   "outputs": [],
   "source": []
  }
 ],
 "metadata": {
  "kernelspec": {
   "display_name": "Python 3 (ipykernel)",
   "language": "python",
   "name": "python3"
  },
  "language_info": {
   "codemirror_mode": {
    "name": "ipython",
    "version": 3
   },
   "file_extension": ".py",
   "mimetype": "text/x-python",
   "name": "python",
   "nbconvert_exporter": "python",
   "pygments_lexer": "ipython3",
   "version": "3.8.10"
  }
 },
 "nbformat": 4,
 "nbformat_minor": 5
}
